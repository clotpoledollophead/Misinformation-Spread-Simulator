{
 "cells": [
  {
   "cell_type": "code",
   "execution_count": 1,
   "id": "ef30a2de",
   "metadata": {},
   "outputs": [],
   "source": [
    "!pip3 install -q networkx numpy matplotlib openai asyncio"
   ]
  },
  {
   "cell_type": "code",
   "execution_count": 2,
   "id": "40525613",
   "metadata": {},
   "outputs": [],
   "source": [
    "import json\n",
    "import networkx as nx\n",
    "import numpy as np\n",
    "import matplotlib.pyplot as plt\n",
    "import asyncio\n",
    "import openai\n",
    "from dataclasses import dataclass\n",
    "\n",
    "# set the OpenAI API key\n",
    "with open(\"config.json\", \"r\") as f:\n",
    "    cfg = json.load(f)\n",
    "\n",
    "client = openai.OpenAI(api_key=cfg[\"chatgpt_api_key\"])"
   ]
  },
  {
   "cell_type": "code",
   "execution_count": 3,
   "id": "68bd599b",
   "metadata": {},
   "outputs": [],
   "source": [
    "# create small-world graph with 150 nodes\n",
    "N = 150\n",
    "# n = num of nodes\n",
    "# k = each node is connected to k nearest neighbors in ring topology\n",
    "# p = probability of rewiring each edge\n",
    "G = nx.watts_strogatz_graph(n=N, k=4, p=0.1, seed=42)\n",
    "\n",
    "# attach node attributes\n",
    "for node in G.nodes():\n",
    "    G.nodes[node].update({\n",
    "        'trust_official': float(np.random.rand()), # [0, 1]\n",
    "        'susceptibility': float(np.random.rand()), # [0, 1]\n",
    "        'belief_threshold': 0.5, # fixed threshold\n",
    "        'share_threshold': 0.5,\n",
    "        'memory': set() # encountered claims\n",
    "    })"
   ]
  },
  {
   "cell_type": "code",
   "execution_count": 4,
   "id": "bb7bc247",
   "metadata": {},
   "outputs": [],
   "source": [
    "# define messgae structure and decision functions\n",
    "@dataclass\n",
    "class Message:\n",
    "    text: str\n",
    "    origin: str # node ID or \"official\"\n",
    "    truth: bool # true/false claim\n",
    "\n",
    "def compute_belief(agent, msg: Message) -> float:\n",
    "    # Belief: trust if official, else susceptibility\n",
    "    if msg.origin == 'official':\n",
    "        base = agent['trust_official']\n",
    "    else:\n",
    "        base = agent['susceptibility']\n",
    "    \n",
    "    return base * (0.8 if msg.text in agent['memory'] else 1.0) # trust if already encountered\n",
    "\n",
    "def compute_share(agent, belief_score: float) -> bool:\n",
    "    # share when belief_score goes over threshold\n",
    "    return belief_score >= agent['share_threshold']"
   ]
  },
  {
   "cell_type": "code",
   "execution_count": 5,
   "id": "1a502ed2",
   "metadata": {},
   "outputs": [],
   "source": [
    "# LLM-based post generation\n",
    "async def generate_post(agent_id:int, message_text:str) -> str:\n",
    "    prompt = (\n",
    "        f\"You are user #{agent_id} who BELIEVES the following claim: \\\"{message_text}\\\".\\n\"\n",
    "        \"Write a social media post to share this information in you rown style.\"\n",
    "    )\n",
    "\n",
    "    resp = await client.chat.completions.create(\n",
    "        model=\"gpt-3.5-turbo\",\n",
    "        messages=[{\"role\": \"user\",\n",
    "                   \"content\": prompt}],\n",
    "                   temperature=0.7\n",
    "    )\n",
    "\n",
    "    return resp.choices[0].message.content.strip()"
   ]
  },
  {
   "cell_type": "code",
   "execution_count": 8,
   "id": "b0cf9eaf",
   "metadata": {},
   "outputs": [
    {
     "name": "stdout",
     "output_type": "stream",
     "text": [
      "Step  0: 29 agents out of 150, or 19.33% are believers.\n",
      "Step  1: 37 agents out of 150, or 24.67% are believers.\n",
      "Step  2: 42 agents out of 150, or 28.00% are believers.\n",
      "Step  3: 49 agents out of 150, or 32.67% are believers.\n",
      "Step  4: 54 agents out of 150, or 36.00% are believers.\n",
      "Step  5: 54 agents out of 150, or 36.00% are believers.\n",
      "Step  6: 54 agents out of 150, or 36.00% are believers.\n",
      "Step  7: 54 agents out of 150, or 36.00% are believers.\n",
      "Step  8: 54 agents out of 150, or 36.00% are believers.\n",
      "Step  9: 54 agents out of 150, or 36.00% are believers.\n"
     ]
    }
   ],
   "source": [
    "import random\n",
    "\n",
    "# seed a false rumor\n",
    "seed = Message(text=\"Breaking News: Starbucks is sponsoring the Republican National Convention in Milwaukee.\", \n",
    "               origin=\"botnet\", \n",
    "               truth=False)\n",
    "inboxes = {n: [] for n in G.nodes()}\n",
    "for s in random.sample(list(G.nodes()), k=3):\n",
    "    inboxes[s].append(seed)\n",
    "\n",
    "believers_over_time = [] # list of believers\n",
    "\n",
    "T = 10 # time steps\n",
    "for t in range(T):\n",
    "\n",
    "    new_inboxes = {n:[] for n in G.nodes()}\n",
    "    for node in G.nodes():\n",
    "        agent = G.nodes[node]\n",
    "\n",
    "        for msg in inboxes[node]:\n",
    "            b = compute_belief(agent, msg) # belief score\n",
    "            agent['memory'].add(msg.text) # add to memory\n",
    "\n",
    "            if compute_share(agent, b):\n",
    "                for nbr in G.neighbors(node):\n",
    "                    new_inboxes[nbr].append(msg)\n",
    "    \n",
    "    # inject an \"official\" bebunk at step 6\n",
    "    if t == 6:\n",
    "        correction = Message(text=\"Fact-check:  False. Starbucks is providing coffee and other beverages to first responders at five RNC venues through a partnership with the Milwaukee 2024 Host Committee, according to a spokesperson for the company. It is not providing a cash sponsorship of any kind.\", \n",
    "                             origin=\"official\", \n",
    "                             truth=True)\n",
    "        for n in G.nodes():\n",
    "            if G.nodes[n]['trust_official'] > 0.7:\n",
    "                new_inboxes[n].append(correction)\n",
    "        \n",
    "    inboxes = new_inboxes\n",
    "\n",
    "    # count cumulative believers\n",
    "    cumul_believers = sum(1 for n in G.nodes() if seed.text in G.nodes[n]['memory'])\n",
    "    believers_over_time.append(cumul_believers)\n",
    "    print(\n",
    "        f\"Step {t:2d}: {cumul_believers} agents out of {N}, \"\n",
    "        f\"or {cumul_believers/N:.2%} are believers.\"\n",
    "    )"
   ]
  },
  {
   "cell_type": "code",
   "execution_count": 9,
   "id": "5e1b3dca",
   "metadata": {},
   "outputs": [
    {
     "data": {
      "image/png": "[encoded data removed]",
      "text/plain": [
       "<Figure size 640x480 with 1 Axes>"
      ]
     },
     "metadata": {},
     "output_type": "display_data"
    }
   ],
   "source": [
    "# plot the spread curve\n",
    "plt.plot(range(T), believers_over_time, marker='o')\n",
    "plt.title(\"Demo Rumor Cascade in a Small-World Network\")\n",
    "plt.xlabel(\"Time Step\")\n",
    "plt.ylabel(\"Cumulative Believers\")\n",
    "plt.grid(True)\n",
    "plt.show()"
   ]
  }
 ],
 "metadata": {
  "kernelspec": {
   "display_name": "Python 3",
   "language": "python",
   "name": "python3"
  },
  "language_info": {
   "codemirror_mode": {
    "name": "ipython",
    "version": 3
   },
   "file_extension": ".py",
   "mimetype": "text/x-python",
   "name": "python",
   "nbconvert_exporter": "python",
   "pygments_lexer": "ipython3",
   "version": "3.12.6"
  }
 },
 "nbformat": 4,
 "nbformat_minor": 5
}
